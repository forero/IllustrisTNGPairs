{
 "cells": [
  {
   "cell_type": "code",
   "execution_count": 94,
   "metadata": {},
   "outputs": [],
   "source": [
    "import h5py\n",
    "import illustris_python.groupcat as gc\n",
    "from sklearn.neighbors import NearestNeighbors\n",
    "import matplotlib.pyplot as plt\n",
    "import numpy as np\n",
    "import corner\n",
    "import scipy.special\n",
    "%matplotlib inline"
   ]
  },
  {
   "cell_type": "code",
   "execution_count": 95,
   "metadata": {},
   "outputs": [
    {
     "name": "stdout",
     "output_type": "stream",
     "text": [
      "['halo_mass_A', 'halo_mass_B', 'halo_mass_G', 'hubble', 'pos_A', 'pos_B', 'pos_G', 'stellar_mass_A', 'stellar_mass_B', 'stellar_mass_G', 'subhalo_ID_A', 'subhalo_ID_B', 'subhalo_ID_G', 'vel_A', 'vel_B', 'vel_G', 'vmax_A', 'vmax_B', 'vmax_G']\n",
      "0.6774\n"
     ]
    }
   ],
   "source": [
    "filename = \"../data/pairs_box_L205n2500TNG.hdf5\"\n",
    "f = h5py.File(filename, 'r')\n",
    "keys = list(f.keys())\n",
    "pair_data = {}\n",
    "for k in keys:\n",
    "    pair_data[k] = f[k][...]\n",
    "print(keys)\n",
    "f.close()\n",
    "print(pair_data['hubble'])"
   ]
  },
  {
   "cell_type": "code",
   "execution_count": 96,
   "metadata": {},
   "outputs": [],
   "source": [
    "pair_data['vel_A_mag'] = np.sqrt(np.sum(pair_data['vel_A']**2, axis=1))\n",
    "pair_data['vel_B_mag'] = np.sqrt(np.sum(pair_data['vel_B']**2, axis=1))\n",
    "pair_data['vel_G_mag'] = np.sqrt(np.sum(pair_data['vel_G']**2, axis=1))\n",
    "\n",
    "pair_data['pos_AB'] = np.sqrt(np.sum( (pair_data['pos_B'] - pair_data['pos_A'])**2, axis=1))\n",
    "pair_data['vel_AB'] = np.sqrt(np.sum( (pair_data['vel_B'] - pair_data['vel_A'])**2, axis=1)) # comoving\n",
    "pair_data['vel_AB_rad'] = np.sum((pair_data['pos_B'] - pair_data['pos_A'])*(pair_data['vel_B'] - pair_data['vel_A']), axis=1)/pair_data['pos_AB'] #comoving\n",
    "pair_data['vel_AB_tan'] = np.sqrt((pair_data['vel_AB']**2 - pair_data['vel_AB_rad']**2))# comoving\n",
    "    \n",
    "#now we compute the radial velocity including the hubble flow, positions are in kpc\n",
    "pair_data['vel_AB_rad'] = pair_data['vel_AB_rad'] + (pair_data['pos_AB']/1000 * pair_data['hubble']*100)\n",
    "\n",
    "# here we compute the compute the dot product between the position vector and the radial velocity\n",
    "pair_data['mu'] = np.abs(np.sum((pair_data['pos_B']-pair_data['pos_A'])*(pair_data['vel_B']), axis=1)/(pair_data['vel_B_mag']*pair_data['pos_AB']))"
   ]
  },
  {
   "cell_type": "code",
   "execution_count": 97,
   "metadata": {},
   "outputs": [
    {
     "name": "stdout",
     "output_type": "stream",
     "text": [
      "[ -20.   60.  140.  220.  300.  380.  460.  540.  620.  700.  780.  860.\n",
      "  940. 1020. 1100. 1180. 1260. 1340. 1420. 1500. 1580.]\n",
      "[-210. -200. -190. -180. -170. -160. -150. -140. -130. -120. -110. -100.\n",
      "  -90.  -80.  -70.  -60.  -50.  -40.  -30.  -20.  -10.]\n",
      "[  5.  10.  15.  20.  25.  30.  35.  40.  45.  50.  55.  60.  65.  70.\n",
      "  75.  80.  85.  90.  95. 100. 105.]\n"
     ]
    }
   ],
   "source": [
    "obs = {}\n",
    "obs['pos_AB'] = 780\n",
    "obs['vel_AB_rad'] = -110.0\n",
    "obs['vel_AB_tan'] = 55.0 \n",
    "\n",
    "obs['delta_pos_AB'] = 80.0\n",
    "obs['delta_vel_AB_rad'] = 10.0\n",
    "obs['delta_vel_AB_tan'] = 5.0 \n",
    "\n",
    "n_delta = 10\n",
    "bins = {}\n",
    "for k in ['pos_AB', 'vel_AB_rad', 'vel_AB_tan']:\n",
    "    bins[k] = np.linspace(obs[k]-n_delta*obs['delta_'+k], obs[k]+n_delta*obs['delta_'+k], n_delta*2 +1)\n",
    "\n",
    "print(bins['pos_AB'])\n",
    "print(bins['vel_AB_rad'])\n",
    "print(bins['vel_AB_tan'])"
   ]
  },
  {
   "cell_type": "code",
   "execution_count": 106,
   "metadata": {},
   "outputs": [],
   "source": [
    "counts = np.zeros((2*n_delta+1, 2*n_delta+1, 2*n_delta+1))\n",
    "i_delta = 3.0\n",
    "for ii in range(2*n_delta+1):\n",
    "    for jj in range(2*n_delta+1):\n",
    "        for kk in range(2*n_delta+1):\n",
    "            ii_in = pair_data['pos_AB'] > (bins['pos_AB'][ii]-i_delta*obs['delta_pos_AB'])\n",
    "            ii_in &= pair_data['pos_AB'] < (bins['pos_AB'][ii]+ i_delta*obs['delta_pos_AB'])\n",
    "            ii_in &= pair_data['vel_AB_rad'] > (bins['vel_AB_rad'][jj]- i_delta * obs['delta_vel_AB_rad'])\n",
    "            ii_in &= pair_data['vel_AB_rad'] < (bins['vel_AB_rad'][jj]+ i_delta * obs['delta_vel_AB_rad'])\n",
    "            ii_in &= pair_data['vel_AB_tan'] > (bins['vel_AB_tan'][kk]- i_delta * obs['delta_vel_AB_tan'])\n",
    "            ii_in &= pair_data['vel_AB_tan'] < (bins['vel_AB_tan'][kk] + i_delta * obs['delta_vel_AB_tan'])\n",
    "            counts[ii,jj,kk] = np.count_nonzero(ii_in)"
   ]
  },
  {
   "cell_type": "code",
   "execution_count": 107,
   "metadata": {},
   "outputs": [
    {
     "data": {
      "text/plain": [
       "<matplotlib.image.AxesImage at 0x1a21fb2160>"
      ]
     },
     "execution_count": 107,
     "metadata": {},
     "output_type": "execute_result"
    },
    {
     "data": {
      "image/png": "[encoded data removed]",
      "text/plain": [
       "<Figure size 1080x360 with 3 Axes>"
      ]
     },
     "metadata": {},
     "output_type": "display_data"
    }
   ],
   "source": [
    "plt.figure(figsize=(15,5))\n",
    "plt.subplot(1,3,1)\n",
    "plt.imshow(counts[10,:,:])\n",
    "\n",
    "plt.subplot(1,3,2)\n",
    "plt.imshow(counts[:,10,:])\n",
    "\n",
    "plt.subplot(1,3,3)\n",
    "plt.imshow(counts[:,:,10])"
   ]
  },
  {
   "cell_type": "code",
   "execution_count": 108,
   "metadata": {},
   "outputs": [
    {
     "name": "stdout",
     "output_type": "stream",
     "text": [
      "11.0\n",
      "79.0\n"
     ]
    }
   ],
   "source": [
    "print(counts[10,10,10])\n",
    "print(counts.max())"
   ]
  },
  {
   "cell_type": "code",
   "execution_count": 109,
   "metadata": {},
   "outputs": [
    {
     "data": {
      "image/png": "[encoded data removed]",
      "text/plain": [
       "<Figure size 432x288 with 1 Axes>"
      ]
     },
     "metadata": {},
     "output_type": "display_data"
    }
   ],
   "source": [
    "_ = plt.hist(counts.flatten(), bins=20)"
   ]
  },
  {
   "cell_type": "code",
   "execution_count": 171,
   "metadata": {},
   "outputs": [
    {
     "name": "stdout",
     "output_type": "stream",
     "text": [
      "(14, 20, 5) 1100.0 -10.0 30.0\n"
     ]
    },
    {
     "data": {
      "image/png": "[encoded data removed]",
      "text/plain": [
       "<Figure size 1080x360 with 3 Axes>"
      ]
     },
     "metadata": {},
     "output_type": "display_data"
    }
   ],
   "source": [
    "max_tuple = np.unravel_index(np.argmax(counts), ((2*n_delta+1, 2*n_delta+1, 2*n_delta+1)))\n",
    "\n",
    "high_ii = np.where(counts>45)\n",
    "n_high = len(high_ii[0])\n",
    "#print((high_ii[0]), n_high)\n",
    "\n",
    "plt.figure(figsize=(15,5))\n",
    "\n",
    "plt.subplot(1,3,1)\n",
    "for i in range(n_high):\n",
    "    plt.scatter(bins['pos_AB'][high_ii[0][i]], bins['vel_AB_rad'][high_ii[1][i]], color='black')\n",
    "    \n",
    "    \n",
    "plt.subplot(1,3,2)\n",
    "for i in range(n_high):\n",
    "    plt.scatter(bins['pos_AB'][high_ii[0][i]], bins['vel_AB_tan'][high_ii[2][i]], color='black')\n",
    "    \n",
    "\n",
    "plt.subplot(1,3,3)\n",
    "for i in range(n_high):\n",
    "    plt.scatter(bins['vel_AB_rad'][high_ii[1][i]], bins['vel_AB_tan'][high_ii[2][i]], color='black')\n",
    "\n",
    "print(max_tuple, bins['pos_AB'][max_tuple[0]], bins['vel_AB_rad'][max_tuple[1]], bins['vel_AB_tan'][max_tuple[2]])"
   ]
  },
  {
   "cell_type": "code",
   "execution_count": 170,
   "metadata": {},
   "outputs": [
    {
     "data": {
      "text/plain": [
       "[<matplotlib.lines.Line2D at 0x1a28bd5048>]"
      ]
     },
     "execution_count": 170,
     "metadata": {},
     "output_type": "execute_result"
    },
    {
     "data": {
      "image/png": "[encoded data removed]",
      "text/plain": [
       "<Figure size 432x288 with 1 Axes>"
      ]
     },
     "metadata": {},
     "output_type": "display_data"
    }
   ],
   "source": [
    "sorted_counts = np.sort(counts.flatten())[::-1]\n",
    "cum_sorted_counts = np.cumsum(sorted_counts)\n",
    "#plt.plot(cum_sorted_counts/np.sum(sorted_counts) )\n",
    "ii = (cum_sorted_counts/np.sum(sorted_counts)) <0.3\n",
    "plt.plot(sorted_counts[ii])\n",
    "#ii = cum_sorted_counts/np.sum(sorted_counts) >0.85\n",
    "#plt.plot(sorted_counts[ii])"
   ]
  },
  {
   "cell_type": "code",
   "execution_count": null,
   "metadata": {},
   "outputs": [],
   "source": []
  }
 ],
 "metadata": {
  "kernelspec": {
   "display_name": "Python 3",
   "language": "python",
   "name": "python3"
  },
  "language_info": {
   "codemirror_mode": {
    "name": "ipython",
    "version": 3
   },
   "file_extension": ".py",
   "mimetype": "text/x-python",
   "name": "python",
   "nbconvert_exporter": "python",
   "pygments_lexer": "ipython3",
   "version": "3.6.8"
  }
 },
 "nbformat": 4,
 "nbformat_minor": 2
}
